{
 "cells": [
  {
   "cell_type": "code",
   "execution_count": 198,
   "metadata": {},
   "outputs": [],
   "source": [
    "from xml.dom import minidom\n",
    "import pandas as pd\n",
    "import re\n",
    "from datetime import datetime"
   ]
  },
  {
   "cell_type": "code",
   "execution_count": 199,
   "metadata": {},
   "outputs": [],
   "source": [
    "today = datetime.now()\n",
    "today = today.strftime('%Y-%m-%d')\n",
    "mes = today[5:7]"
   ]
  },
  {
   "cell_type": "code",
   "execution_count": 200,
   "metadata": {},
   "outputs": [],
   "source": [
    "if mes == '01':\n",
    "    mes = 'JANEIRO'\n",
    "elif mes == '02':\n",
    "    mes = 'FEVEREIRO'\n",
    "elif mes == '03':\n",
    "    mes = 'MARÇO'\n",
    "elif mes == '04':\n",
    "    mes = 'ABRIL'\n",
    "elif mes == '05':\n",
    "    mes = 'MAIO'\n",
    "elif mes == '06':\n",
    "    mes = 'JUNHO'\n",
    "elif mes == '07':\n",
    "    mes = 'JULHO'\n",
    "elif mes == '08':\n",
    "    mes = 'AGOSTO'\n",
    "elif mes == '09':\n",
    "    mes = 'SETEMBRO'\n",
    "elif mes == '10':\n",
    "    mes = 'OUTUBRO'\n",
    "elif mes == '11':\n",
    "    mes = 'NOVEMBRO'\n",
    "else:\n",
    "    mes = 'DEZEMBRO'"
   ]
  },
  {
   "cell_type": "code",
   "execution_count": 201,
   "metadata": {},
   "outputs": [],
   "source": [
    "path = str(input('coloque o caminho do arquivo:'))\n",
    "path = path.replace('\\\\', '/')\n",
    "arquivo = str(input('Digite o nome do arquivo:'))\n",
    "arquivo = path +'/'+ arquivo + '.xml'\n",
    "path2 = str(input('coloque o caminho do arquivo:'))\n",
    "path2 = path.replace('\\\\', '/')\n",
    "arquivo2 = str(input('Digite o nome do arquivo:'))\n",
    "arquivo2 = path +'/'+ arquivo2 + '.xlsx'\n",
    "arquivo3 = arquivo2"
   ]
  },
  {
   "cell_type": "code",
   "execution_count": 252,
   "metadata": {},
   "outputs": [],
   "source": [
    "exel = pd.read_excel(arquivo2, sheet_name= 'JULHO 2023', header=5)"
   ]
  },
  {
   "cell_type": "code",
   "execution_count": 253,
   "metadata": {},
   "outputs": [],
   "source": [
    "# extrai dados por meio das tags\n",
    "with open(arquivo, 'r') as f:\n",
    "    xml = minidom.parse(f)\n",
    "    dtEmi = xml.getElementsByTagName('dhEmi')\n",
    "    RSocial = xml.getElementsByTagName('xNome')\n",
    "    NFantasia = xml.getElementsByTagName('xFant')\n",
    "    qtde = xml.getElementsByTagName('indTot')\n",
    "    peca = xml.getElementsByTagName('xProd')\n",
    "    vl_tot = xml.getElementsByTagName('vProd')\n",
    "    nfe = xml.getElementsByTagName('nNF')\n",
    "    desconto = xml.getElementsByTagName('vDesc')\n",
    "    vl_final = xml.getElementsByTagName('vNF')\n",
    "\n",
    "#joga dados em uma lista para extrair as informações\n",
    "lista = [dtEmi, RSocial, NFantasia,qtde, peca, vl_tot, nfe, desconto, vl_final]\n",
    "\n",
    "#checa se existe algum dado vazio, se houver irá colocar o item como sem informação\n",
    "lista_elementos = []\n",
    "for i in lista:\n",
    "    if len(i) > 0:\n",
    "        dado = i[0].firstChild.data\n",
    "        lista_elementos.append(dado)\n",
    "    else:\n",
    "        dado = 'sem informação'\n",
    "        lista_elementos.append(dado)"
   ]
  },
  {
   "cell_type": "code",
   "execution_count": 254,
   "metadata": {},
   "outputs": [],
   "source": [
    "lista_elementos[0] = lista_elementos[0][:10]"
   ]
  },
  {
   "cell_type": "code",
   "execution_count": 255,
   "metadata": {},
   "outputs": [],
   "source": [
    "exel.iloc[-1] = {'MÊS': mes,\n",
    "                 'DATA DE LAÇAMENTO': today,\n",
    "                 'DATA EMISSÃO':lista_elementos[0], \n",
    "                 'RAZÃO SOCIAL': lista_elementos[1], \n",
    "                 'NOME FANTASIA': lista_elementos[2], \n",
    "                 'QTDE': lista_elementos[3], \n",
    "                 'PEÇAS': lista_elementos[4], \n",
    "                 'VALOR  TOTAL': lista_elementos[5], \n",
    "                 'NFE / RECIBO': lista_elementos[6],\n",
    "                 'DESCONTO': lista_elementos[7], \n",
    "                 'VALOR FINAL': lista_elementos[8]}"
   ]
  },
  {
   "cell_type": "code",
   "execution_count": 274,
   "metadata": {},
   "outputs": [],
   "source": [
    "with pd.ExcelWriter(arquivo3, mode='a', engine=\"openpyxl\", if_sheet_exists='replace') as writer:\n",
    "    exel.to_excel(writer, sheet_name = 'JULHO 2023')"
   ]
  }
 ],
 "metadata": {
  "kernelspec": {
   "display_name": "Python 3",
   "language": "python",
   "name": "python3"
  },
  "language_info": {
   "codemirror_mode": {
    "name": "ipython",
    "version": 3
   },
   "file_extension": ".py",
   "mimetype": "text/x-python",
   "name": "python",
   "nbconvert_exporter": "python",
   "pygments_lexer": "ipython3",
   "version": "3.10.4"
  },
  "orig_nbformat": 4
 },
 "nbformat": 4,
 "nbformat_minor": 2
}
